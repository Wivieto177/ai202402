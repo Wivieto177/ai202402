{
  "nbformat": 4,
  "nbformat_minor": 0,
  "metadata": {
    "colab": {
      "provenance": [],
      "authorship_tag": "ABX9TyO6uR0Pf1g7OMFyjTv8ujlW",
      "include_colab_link": true
    },
    "kernelspec": {
      "name": "python3",
      "display_name": "Python 3"
    },
    "language_info": {
      "name": "python"
    }
  },
  "cells": [
    {
      "cell_type": "markdown",
      "metadata": {
        "id": "view-in-github",
        "colab_type": "text"
      },
      "source": [
        "<a href=\"https://colab.research.google.com/github/Wivieto177/ai202402/blob/main/Practica_numpy_Martes_29_10_2024.ipynb\" target=\"_parent\"><img src=\"https://colab.research.google.com/assets/colab-badge.svg\" alt=\"Open In Colab\"/></a>"
      ]
    },
    {
      "cell_type": "markdown",
      "source": [
        "Numpy Library"
      ],
      "metadata": {
        "id": "_XrirEGNgOYm"
      }
    },
    {
      "cell_type": "code",
      "source": [
        "import numpy as np"
      ],
      "metadata": {
        "id": "vQ73BvJsgSSe"
      },
      "execution_count": null,
      "outputs": []
    },
    {
      "cell_type": "code",
      "source": [
        "print(np.__version__)"
      ],
      "metadata": {
        "colab": {
          "base_uri": "https://localhost:8080/"
        },
        "id": "GxTA8cpJhNUE",
        "outputId": "9d63f3d9-937e-45e1-af8f-e282c954b4d0"
      },
      "execution_count": null,
      "outputs": [
        {
          "output_type": "stream",
          "name": "stdout",
          "text": [
            "1.26.4\n"
          ]
        }
      ]
    },
    {
      "cell_type": "code",
      "source": [
        "myArray=np.array([1,2,3,4,5])\n",
        "print(myArray)"
      ],
      "metadata": {
        "colab": {
          "base_uri": "https://localhost:8080/"
        },
        "id": "QHDYyx28hbcD",
        "outputId": "86ca6418-a69a-4aeb-96b0-f20c62cc2208"
      },
      "execution_count": null,
      "outputs": [
        {
          "output_type": "stream",
          "name": "stdout",
          "text": [
            "[1 2 3 4 5]\n"
          ]
        }
      ]
    },
    {
      "cell_type": "code",
      "source": [
        "print(type(myArray))"
      ],
      "metadata": {
        "colab": {
          "base_uri": "https://localhost:8080/"
        },
        "id": "_ia81HXChu21",
        "outputId": "015f0eaf-71b6-41af-fd16-2326f0727273"
      },
      "execution_count": null,
      "outputs": [
        {
          "output_type": "stream",
          "name": "stdout",
          "text": [
            "<class 'numpy.ndarray'>\n"
          ]
        }
      ]
    },
    {
      "cell_type": "code",
      "source": [
        "print(myArray.shape)\n",
        "print(myArray[3])\n",
        "myArray[2]=28\n",
        "print(myArray)"
      ],
      "metadata": {
        "colab": {
          "base_uri": "https://localhost:8080/"
        },
        "id": "AO69gW6wh9Kw",
        "outputId": "2c6bf350-956a-4ebd-fc3a-a071ee6367a8"
      },
      "execution_count": null,
      "outputs": [
        {
          "output_type": "stream",
          "name": "stdout",
          "text": [
            "(5,)\n",
            "4\n",
            "[ 1  2 28  4  5]\n"
          ]
        }
      ]
    },
    {
      "cell_type": "code",
      "source": [
        "myArray2=np.array([[1,2,3],[4,5,6]])\n",
        "print(myArray2)\n",
        "print(myArray2.shape)"
      ],
      "metadata": {
        "colab": {
          "base_uri": "https://localhost:8080/"
        },
        "id": "9NEmcE7Bi3-F",
        "outputId": "c124040c-e67c-49ee-ca22-e51ac2b29632"
      },
      "execution_count": null,
      "outputs": [
        {
          "output_type": "stream",
          "name": "stdout",
          "text": [
            "[[1 2 3]\n",
            " [4 5 6]]\n",
            "(2, 3)\n"
          ]
        }
      ]
    },
    {
      "cell_type": "code",
      "source": [
        "myArray3=np.zeros([5,5])\n",
        "print(myArray3)"
      ],
      "metadata": {
        "colab": {
          "base_uri": "https://localhost:8080/"
        },
        "id": "I8bcDlihiVBe",
        "outputId": "e39608af-5f19-4bd3-f18d-9e0e0ee556e3"
      },
      "execution_count": null,
      "outputs": [
        {
          "output_type": "stream",
          "name": "stdout",
          "text": [
            "[[0. 0. 0. 0. 0.]\n",
            " [0. 0. 0. 0. 0.]\n",
            " [0. 0. 0. 0. 0.]\n",
            " [0. 0. 0. 0. 0.]\n",
            " [0. 0. 0. 0. 0.]]\n"
          ]
        }
      ]
    },
    {
      "cell_type": "code",
      "source": [
        "myArray4=np.full([3,6], 10)\n",
        "print(myArray4)\n",
        "myArray5=np.eye(5)\n",
        "print(myArray5)\n",
        "myArray6=np.ones([5,5])\n",
        "print(myArray6)"
      ],
      "metadata": {
        "colab": {
          "base_uri": "https://localhost:8080/"
        },
        "id": "QY7v0f81jVwg",
        "outputId": "ae4ea7a8-35f4-492f-9c2d-2e5fe541486a"
      },
      "execution_count": null,
      "outputs": [
        {
          "output_type": "stream",
          "name": "stdout",
          "text": [
            "[[10 10 10 10 10 10]\n",
            " [10 10 10 10 10 10]\n",
            " [10 10 10 10 10 10]]\n",
            "[[1. 0. 0. 0. 0.]\n",
            " [0. 1. 0. 0. 0.]\n",
            " [0. 0. 1. 0. 0.]\n",
            " [0. 0. 0. 1. 0.]\n",
            " [0. 0. 0. 0. 1.]]\n",
            "[[1. 1. 1. 1. 1.]\n",
            " [1. 1. 1. 1. 1.]\n",
            " [1. 1. 1. 1. 1.]\n",
            " [1. 1. 1. 1. 1.]\n",
            " [1. 1. 1. 1. 1.]]\n"
          ]
        }
      ]
    },
    {
      "cell_type": "code",
      "source": [
        "myArray7=np.random.random([5,5])\n",
        "print(myArray7)\n"
      ],
      "metadata": {
        "colab": {
          "base_uri": "https://localhost:8080/"
        },
        "id": "rGuq0W6Rj26o",
        "outputId": "f0aff8b7-ad52-4649-9a29-4741bf5e6cde"
      },
      "execution_count": null,
      "outputs": [
        {
          "output_type": "stream",
          "name": "stdout",
          "text": [
            "[[0.20810716 0.69913849 0.73014688 0.14915803 0.88659894]\n",
            " [0.76798212 0.32934119 0.04403598 0.81397568 0.71429562]\n",
            " [0.60330224 0.73290446 0.76058668 0.349051   0.14355412]\n",
            " [0.25601432 0.86070987 0.75218631 0.81613484 0.07514359]\n",
            " [0.5904549  0.21306065 0.48184404 0.72269196 0.5966606 ]]\n"
          ]
        }
      ]
    },
    {
      "cell_type": "code",
      "source": [
        "myArray8=np.random.randint(10, size=(5,5))\n",
        "print(myArray8)"
      ],
      "metadata": {
        "colab": {
          "base_uri": "https://localhost:8080/"
        },
        "id": "IhfZfaWekCod",
        "outputId": "481e37d6-6c2b-416e-eda3-4412c01c1424"
      },
      "execution_count": null,
      "outputs": [
        {
          "output_type": "stream",
          "name": "stdout",
          "text": [
            "[[5 3 0 2 9]\n",
            " [9 1 7 6 0]\n",
            " [4 0 4 4 4]\n",
            " [6 2 2 8 6]\n",
            " [8 9 0 3 6]]\n"
          ]
        }
      ]
    },
    {
      "cell_type": "code",
      "source": [
        "myMatrix=myArray8[:2,:2]\n",
        "print(myMatrix)"
      ],
      "metadata": {
        "colab": {
          "base_uri": "https://localhost:8080/"
        },
        "id": "BqSd_mq6ka3N",
        "outputId": "d8803222-8c87-4ab2-cfac-a9bf13884abc"
      },
      "execution_count": null,
      "outputs": [
        {
          "output_type": "stream",
          "name": "stdout",
          "text": [
            "[[9 3]\n",
            " [9 9]]\n"
          ]
        }
      ]
    },
    {
      "cell_type": "code",
      "source": [
        "myArray8[2,2]=100\n",
        "print(myArray8)"
      ],
      "metadata": {
        "colab": {
          "base_uri": "https://localhost:8080/"
        },
        "id": "Zksmh-yilTXT",
        "outputId": "d96d0c21-b61e-4131-e69a-6828756185d4"
      },
      "execution_count": null,
      "outputs": [
        {
          "output_type": "stream",
          "name": "stdout",
          "text": [
            "[[  5   3   0   2   9]\n",
            " [  9   1   7   6   0]\n",
            " [  4   0 100   4   4]\n",
            " [  6   2   2   8   6]\n",
            " [  8   9   0   3   6]]\n"
          ]
        }
      ]
    },
    {
      "cell_type": "code",
      "source": [
        "print(myArray8[:,2].shape)"
      ],
      "metadata": {
        "colab": {
          "base_uri": "https://localhost:8080/"
        },
        "id": "eyIgW79vl5Ex",
        "outputId": "c8280c50-87b0-4483-a553-8d82a517f6b8"
      },
      "execution_count": null,
      "outputs": [
        {
          "output_type": "stream",
          "name": "stdout",
          "text": [
            "(5,)\n"
          ]
        }
      ]
    },
    {
      "cell_type": "code",
      "source": [
        "myMatrix=myArray8[1:4,1:4]\n",
        "print(myMatrix)"
      ],
      "metadata": {
        "colab": {
          "base_uri": "https://localhost:8080/"
        },
        "id": "HyRC2p1ImTpv",
        "outputId": "ade5db98-af0a-46fa-ef29-59072677fa18"
      },
      "execution_count": null,
      "outputs": [
        {
          "output_type": "stream",
          "name": "stdout",
          "text": [
            "[[  1   7   6]\n",
            " [  0 100   4]\n",
            " [  2   2   8]]\n"
          ]
        }
      ]
    },
    {
      "cell_type": "code",
      "source": [
        "matrixA = np.array([[12,13,14,15],[21,22,23,24],[31,32,33,34]])\n",
        "print(matrixA.shape)"
      ],
      "metadata": {
        "id": "-1IhofrDmIuS",
        "colab": {
          "base_uri": "https://localhost:8080/"
        },
        "outputId": "2fb1fdc8-ab8e-45bf-b36e-f2b1aed1ff77"
      },
      "execution_count": null,
      "outputs": [
        {
          "output_type": "stream",
          "name": "stdout",
          "text": [
            "(3, 4)\n"
          ]
        }
      ]
    },
    {
      "cell_type": "code",
      "source": [
        "matrixA"
      ],
      "metadata": {
        "colab": {
          "base_uri": "https://localhost:8080/"
        },
        "id": "OLylggBvnjKV",
        "outputId": "f2b205c5-99dc-47fd-c4b9-1d20c145ac7d"
      },
      "execution_count": null,
      "outputs": [
        {
          "output_type": "execute_result",
          "data": {
            "text/plain": [
              "array([[12, 13, 14, 15],\n",
              "       [21, 22, 23, 24],\n",
              "       [31, 32, 33, 34]])"
            ]
          },
          "metadata": {},
          "execution_count": 13
        }
      ]
    },
    {
      "cell_type": "code",
      "source": [
        "print(matrixA[1:,1:3])"
      ],
      "metadata": {
        "colab": {
          "base_uri": "https://localhost:8080/"
        },
        "id": "NVjUCeCgnmwd",
        "outputId": "b2bfe34f-eff9-47aa-80df-98bcff06d901"
      },
      "execution_count": null,
      "outputs": [
        {
          "output_type": "stream",
          "name": "stdout",
          "text": [
            "[[22 23]\n",
            " [32 33]]\n"
          ]
        }
      ]
    },
    {
      "cell_type": "code",
      "source": [
        "# prompt: Crea una matriz aleatoria de 4x3 con numeros enteros\n",
        "\n",
        "import numpy as np\n",
        "\n",
        "# Crea una matriz aleatoria de 4x3 con números enteros entre 0 y 9\n",
        "random_matrix = np.random.randint(10, size=(4, 3))\n",
        "\n",
        "random_matrix"
      ],
      "metadata": {
        "colab": {
          "base_uri": "https://localhost:8080/"
        },
        "id": "J2lQlpdmnzFC",
        "outputId": "779909a3-3b53-4f72-fdff-51035ec22e40"
      },
      "execution_count": null,
      "outputs": [
        {
          "output_type": "execute_result",
          "data": {
            "text/plain": [
              "array([[5, 4, 8],\n",
              "       [7, 2, 6],\n",
              "       [5, 4, 7],\n",
              "       [7, 8, 1]])"
            ]
          },
          "metadata": {},
          "execution_count": 18
        }
      ]
    },
    {
      "cell_type": "code",
      "source": [
        "print(random_matrix)\n",
        "col_indice=np.array([0,1,2])\n",
        "row_indice=np.array([1,2])\n",
        "for row,col in zip(row_indice,col_indice):\n",
        "  print(random_matrix[row,col])\n",
        "\n"
      ],
      "metadata": {
        "colab": {
          "base_uri": "https://localhost:8080/"
        },
        "id": "HLoEfMZfoPbm",
        "outputId": "a67de524-b4a2-487f-ba1d-d96cfe8d3cf9"
      },
      "execution_count": null,
      "outputs": [
        {
          "output_type": "stream",
          "name": "stdout",
          "text": [
            "[[5 4 8]\n",
            " [7 2 6]\n",
            " [5 4 7]\n",
            " [7 8 1]]\n",
            "7\n",
            "4\n"
          ]
        }
      ]
    },
    {
      "cell_type": "code",
      "source": [
        "mask=random_matrix>4\n",
        "print(mask)"
      ],
      "metadata": {
        "colab": {
          "base_uri": "https://localhost:8080/"
        },
        "id": "HK36GjOqp6Bp",
        "outputId": "8d4a4254-8ddb-4bcf-9ead-dd0f0faaae81"
      },
      "execution_count": null,
      "outputs": [
        {
          "output_type": "stream",
          "name": "stdout",
          "text": [
            "[[ True False  True]\n",
            " [ True False  True]\n",
            " [ True False  True]\n",
            " [ True  True False]]\n"
          ]
        }
      ]
    },
    {
      "cell_type": "code",
      "source": [
        "print(random_matrix[mask])"
      ],
      "metadata": {
        "colab": {
          "base_uri": "https://localhost:8080/"
        },
        "id": "fq9vnO7hqF8n",
        "outputId": "5dd1346b-7f1e-43ee-b020-d9f8abaf9bf1"
      },
      "execution_count": null,
      "outputs": [
        {
          "output_type": "stream",
          "name": "stdout",
          "text": [
            "[5 8 7 6 5 7 7 8]\n"
          ]
        }
      ]
    },
    {
      "cell_type": "code",
      "source": [
        "print(random_matrix[random_matrix>7])"
      ],
      "metadata": {
        "colab": {
          "base_uri": "https://localhost:8080/"
        },
        "id": "61AgQVsLqQMf",
        "outputId": "61b3520f-65f6-488e-82c8-cdb7ffbb8845"
      },
      "execution_count": null,
      "outputs": [
        {
          "output_type": "stream",
          "name": "stdout",
          "text": [
            "[8 8]\n"
          ]
        }
      ]
    },
    {
      "cell_type": "code",
      "source": [
        "print(random_matrix)"
      ],
      "metadata": {
        "colab": {
          "base_uri": "https://localhost:8080/"
        },
        "id": "vFAemd0wqWCQ",
        "outputId": "b6bb2259-01bb-40c2-b151-ef5225e5df52"
      },
      "execution_count": null,
      "outputs": [
        {
          "output_type": "stream",
          "name": "stdout",
          "text": [
            "[[0.56041125 0.95128667]\n",
            " [0.2826931  0.81869334]]\n"
          ]
        }
      ]
    },
    {
      "cell_type": "code",
      "source": [
        "matrix11=np.random.rand(2,2)\n",
        "print(matrix11)"
      ],
      "metadata": {
        "colab": {
          "base_uri": "https://localhost:8080/"
        },
        "id": "mb4on4FHsvtN",
        "outputId": "7966799f-2160-42e8-eec9-73136fbedd6c"
      },
      "execution_count": null,
      "outputs": [
        {
          "output_type": "stream",
          "name": "stdout",
          "text": [
            "[[0.69112138 0.26900443]\n",
            " [0.8210423  0.62852705]]\n"
          ]
        }
      ]
    },
    {
      "cell_type": "code",
      "source": [
        "random_matrix[(random_matrix>3) & (random_matrix<9)] += 100\n",
        "print(random_matrix)"
      ],
      "metadata": {
        "colab": {
          "base_uri": "https://localhost:8080/"
        },
        "id": "hGhzRZZis9J6",
        "outputId": "504a43d7-2459-47e5-8ae8-f888cc038f94"
      },
      "execution_count": null,
      "outputs": [
        {
          "output_type": "stream",
          "name": "stdout",
          "text": [
            "[[0.56041125 0.95128667]\n",
            " [0.2826931  0.81869334]]\n"
          ]
        }
      ]
    },
    {
      "cell_type": "code",
      "source": [
        "import numpy as np\n",
        "random_matrix = np.random.randint(10, size=(4, 3))\n",
        "\n",
        "random_matrix"
      ],
      "metadata": {
        "colab": {
          "base_uri": "https://localhost:8080/"
        },
        "id": "BjAn62YHvDXT",
        "outputId": "ba53d455-d9f0-4666-ba38-6256c678e6f6"
      },
      "execution_count": null,
      "outputs": [
        {
          "output_type": "execute_result",
          "data": {
            "text/plain": [
              "array([[7, 4, 8],\n",
              "       [6, 2, 7],\n",
              "       [2, 9, 0],\n",
              "       [7, 0, 8]])"
            ]
          },
          "metadata": {},
          "execution_count": 91
        }
      ]
    },
    {
      "cell_type": "code",
      "source": [
        "print(np.sqrt(random_matrix))"
      ],
      "metadata": {
        "colab": {
          "base_uri": "https://localhost:8080/"
        },
        "id": "FGNeDHS5vMD1",
        "outputId": "ebe6462e-44ef-45f2-9d03-df0aa58c7a58"
      },
      "execution_count": null,
      "outputs": [
        {
          "output_type": "stream",
          "name": "stdout",
          "text": [
            "[[2.64575131 2.         2.82842712]\n",
            " [2.44948974 1.41421356 2.64575131]\n",
            " [1.41421356 3.         0.        ]\n",
            " [2.64575131 0.         2.82842712]]\n"
          ]
        }
      ]
    },
    {
      "cell_type": "code",
      "source": [
        "matrixA1 = np.random.randint(0, 10, size=(2, 5))\n",
        "print(matrixA1)"
      ],
      "metadata": {
        "colab": {
          "base_uri": "https://localhost:8080/"
        },
        "id": "nhZ8s3tawDM6",
        "outputId": "8171503a-8f93-49f4-97cc-e9cb106d438d"
      },
      "execution_count": null,
      "outputs": [
        {
          "output_type": "stream",
          "name": "stdout",
          "text": [
            "[[0 1 9 9 9]\n",
            " [6 2 4 0 3]]\n"
          ]
        }
      ]
    },
    {
      "cell_type": "code",
      "source": [
        "print(np.mean(matrixA1))"
      ],
      "metadata": {
        "colab": {
          "base_uri": "https://localhost:8080/"
        },
        "id": "KZXUsF51wWxP",
        "outputId": "377d4997-04ac-44a5-be97-e6d8ebaad010"
      },
      "execution_count": null,
      "outputs": [
        {
          "output_type": "stream",
          "name": "stdout",
          "text": [
            "4.3\n"
          ]
        }
      ]
    },
    {
      "cell_type": "code",
      "source": [
        "print(matrixA1.mean(axis=1))"
      ],
      "metadata": {
        "colab": {
          "base_uri": "https://localhost:8080/"
        },
        "id": "v_PF2BgswazU",
        "outputId": "d68a6302-fe9b-41b4-e854-bdb3fbb7e199"
      },
      "execution_count": null,
      "outputs": [
        {
          "output_type": "stream",
          "name": "stdout",
          "text": [
            "[5.6 3. ]\n"
          ]
        }
      ]
    },
    {
      "cell_type": "code",
      "source": [
        "print(matrixA1.mean(axis=0))"
      ],
      "metadata": {
        "colab": {
          "base_uri": "https://localhost:8080/"
        },
        "id": "hCiwlXG_wibe",
        "outputId": "e46b05a6-ecdd-42e0-f617-ca1e8ec6a120"
      },
      "execution_count": null,
      "outputs": [
        {
          "output_type": "stream",
          "name": "stdout",
          "text": [
            "[3.  1.5 6.5 4.5 6. ]\n"
          ]
        }
      ]
    },
    {
      "cell_type": "code",
      "source": [
        "print(matrixA1.max())"
      ],
      "metadata": {
        "colab": {
          "base_uri": "https://localhost:8080/"
        },
        "id": "hVg3le0TwmIx",
        "outputId": "0f0ca806-6b7c-441e-e02f-bb4d927d898a"
      },
      "execution_count": null,
      "outputs": [
        {
          "output_type": "stream",
          "name": "stdout",
          "text": [
            "9\n"
          ]
        }
      ]
    },
    {
      "cell_type": "code",
      "source": [
        "print(matrixA1.min())"
      ],
      "metadata": {
        "colab": {
          "base_uri": "https://localhost:8080/"
        },
        "id": "W0UrjZHixUIL",
        "outputId": "5928c116-6972-4845-9578-2cf4a6c7d89e"
      },
      "execution_count": null,
      "outputs": [
        {
          "output_type": "stream",
          "name": "stdout",
          "text": [
            "0\n"
          ]
        }
      ]
    },
    {
      "cell_type": "code",
      "source": [
        "print(matrixA1.sum())"
      ],
      "metadata": {
        "colab": {
          "base_uri": "https://localhost:8080/"
        },
        "id": "sU2F8bwnxV_Q",
        "outputId": "8ff946a4-8af0-4e53-8351-93174f5dd977"
      },
      "execution_count": null,
      "outputs": [
        {
          "output_type": "stream",
          "name": "stdout",
          "text": [
            "43\n"
          ]
        }
      ]
    },
    {
      "cell_type": "code",
      "source": [
        "print(np.median(matrixA1))"
      ],
      "metadata": {
        "colab": {
          "base_uri": "https://localhost:8080/"
        },
        "id": "9lvxXYVtxYZg",
        "outputId": "4a0c9f9c-b4c6-45c5-b366-ca35101aecc9"
      },
      "execution_count": null,
      "outputs": [
        {
          "output_type": "stream",
          "name": "stdout",
          "text": [
            "3.5\n"
          ]
        }
      ]
    },
    {
      "cell_type": "code",
      "source": [
        "start=np.zeros((4,3))\n",
        "print(start)"
      ],
      "metadata": {
        "colab": {
          "base_uri": "https://localhost:8080/"
        },
        "id": "2ww_7VCDx4n6",
        "outputId": "f0484683-2574-44dc-d5e2-c03ab7519bfc"
      },
      "execution_count": null,
      "outputs": [
        {
          "output_type": "stream",
          "name": "stdout",
          "text": [
            "[[0. 0. 0.]\n",
            " [0. 0. 0.]\n",
            " [0. 0. 0.]\n",
            " [0. 0. 0.]]\n"
          ]
        }
      ]
    },
    {
      "cell_type": "code",
      "source": [
        "add_rows=np.array([1,0,2])\n",
        "print(add_rows.shape)"
      ],
      "metadata": {
        "colab": {
          "base_uri": "https://localhost:8080/"
        },
        "id": "nkMbSE_myHBu",
        "outputId": "d2e4f7d7-fe66-4480-a62f-089be4d4c7a6"
      },
      "execution_count": null,
      "outputs": [
        {
          "output_type": "stream",
          "name": "stdout",
          "text": [
            "(3,)\n"
          ]
        }
      ]
    },
    {
      "cell_type": "code",
      "source": [
        "y=start+add_rows\n",
        "print(y)"
      ],
      "metadata": {
        "colab": {
          "base_uri": "https://localhost:8080/"
        },
        "id": "ygisp41UyRC-",
        "outputId": "4ec53674-37cd-4efb-c621-e7b8418c4820"
      },
      "execution_count": null,
      "outputs": [
        {
          "output_type": "stream",
          "name": "stdout",
          "text": [
            "[[1. 0. 2.]\n",
            " [1. 0. 2.]\n",
            " [1. 0. 2.]\n",
            " [1. 0. 2.]]\n"
          ]
        }
      ]
    },
    {
      "cell_type": "code",
      "source": [
        "col_rows=np.array([[0,1,2,3]])\n",
        "print(col_rows.shape)"
      ],
      "metadata": {
        "colab": {
          "base_uri": "https://localhost:8080/"
        },
        "id": "bnL0FKRJ1fdZ",
        "outputId": "8f5e3a5d-452a-4a7f-d536-3c468aadd7b5"
      },
      "execution_count": 145,
      "outputs": [
        {
          "output_type": "stream",
          "name": "stdout",
          "text": [
            "(1, 4)\n"
          ]
        }
      ]
    },
    {
      "cell_type": "code",
      "source": [
        "print(start)\n",
        "tmp=col_rows.T\n",
        "y2=start+tpm\n",
        "print(y2)"
      ],
      "metadata": {
        "colab": {
          "base_uri": "https://localhost:8080/",
          "height": 273
        },
        "id": "Key4dAeQz1gG",
        "outputId": "f01164b7-4056-4ec5-9844-40b0c8f4b403"
      },
      "execution_count": 146,
      "outputs": [
        {
          "output_type": "stream",
          "name": "stdout",
          "text": [
            "[[0. 0. 0.]\n",
            " [0. 0. 0.]\n",
            " [0. 0. 0.]\n",
            " [0. 0. 0.]]\n"
          ]
        },
        {
          "output_type": "error",
          "ename": "NameError",
          "evalue": "name 'tpm' is not defined",
          "traceback": [
            "\u001b[0;31m---------------------------------------------------------------------------\u001b[0m",
            "\u001b[0;31mNameError\u001b[0m                                 Traceback (most recent call last)",
            "\u001b[0;32m<ipython-input-146-fe37078570d6>\u001b[0m in \u001b[0;36m<cell line: 3>\u001b[0;34m()\u001b[0m\n\u001b[1;32m      1\u001b[0m \u001b[0mprint\u001b[0m\u001b[0;34m(\u001b[0m\u001b[0mstart\u001b[0m\u001b[0;34m)\u001b[0m\u001b[0;34m\u001b[0m\u001b[0;34m\u001b[0m\u001b[0m\n\u001b[1;32m      2\u001b[0m \u001b[0mtmp\u001b[0m\u001b[0;34m=\u001b[0m\u001b[0mcol_rows\u001b[0m\u001b[0;34m.\u001b[0m\u001b[0mT\u001b[0m\u001b[0;34m\u001b[0m\u001b[0;34m\u001b[0m\u001b[0m\n\u001b[0;32m----> 3\u001b[0;31m \u001b[0my2\u001b[0m\u001b[0;34m=\u001b[0m\u001b[0mstart\u001b[0m\u001b[0;34m+\u001b[0m\u001b[0mtpm\u001b[0m\u001b[0;34m\u001b[0m\u001b[0;34m\u001b[0m\u001b[0m\n\u001b[0m\u001b[1;32m      4\u001b[0m \u001b[0mprint\u001b[0m\u001b[0;34m(\u001b[0m\u001b[0my2\u001b[0m\u001b[0;34m)\u001b[0m\u001b[0;34m\u001b[0m\u001b[0;34m\u001b[0m\u001b[0m\n",
            "\u001b[0;31mNameError\u001b[0m: name 'tpm' is not defined"
          ]
        }
      ]
    },
    {
      "cell_type": "code",
      "source": [
        "tmp1=np.array([[1,1],[2,2]])\n",
        "tmp2=np.array([[3,3],[4,4]])\n",
        "print(tmp1)\n",
        "print(tmp2)"
      ],
      "metadata": {
        "colab": {
          "base_uri": "https://localhost:8080/"
        },
        "id": "wsDSBDoVz53k",
        "outputId": "189c0c03-7886-4341-c00b-a6201a5cc35d"
      },
      "execution_count": 151,
      "outputs": [
        {
          "output_type": "stream",
          "name": "stdout",
          "text": [
            "[[1 1]\n",
            " [2 2]]\n",
            "[[3 3]\n",
            " [4 4]]\n"
          ]
        }
      ]
    },
    {
      "cell_type": "code",
      "source": [
        "print(np.dot(tmp1,tmp2))"
      ],
      "metadata": {
        "colab": {
          "base_uri": "https://localhost:8080/"
        },
        "id": "LuvRFu1j2JFb",
        "outputId": "a790a19c-585b-4d7c-c23c-c1217f30ff71"
      },
      "execution_count": 152,
      "outputs": [
        {
          "output_type": "stream",
          "name": "stdout",
          "text": [
            "[[ 7  7]\n",
            " [14 14]]\n"
          ]
        }
      ]
    },
    {
      "cell_type": "code",
      "source": [
        "y1=np.random.randint(low=2, high=50, size=(2,2))\n",
        "y2=np.random.randint(low=2, high=50, size=(2,2))\n",
        "print(y1)\n",
        "print(y2)"
      ],
      "metadata": {
        "colab": {
          "base_uri": "https://localhost:8080/"
        },
        "id": "eISoEYjO2NFw",
        "outputId": "8486ace4-6001-4caf-d279-0cfd72e7ad05"
      },
      "execution_count": 153,
      "outputs": [
        {
          "output_type": "stream",
          "name": "stdout",
          "text": [
            "[[27 31]\n",
            " [20 22]]\n",
            "[[30 18]\n",
            " [42 42]]\n"
          ]
        }
      ]
    },
    {
      "cell_type": "code",
      "source": [
        "np.vstack((y1,y2))"
      ],
      "metadata": {
        "colab": {
          "base_uri": "https://localhost:8080/"
        },
        "id": "b9MLZUGs2fDL",
        "outputId": "2aa06f4d-0678-498b-9aab-547b4a27446c"
      },
      "execution_count": 155,
      "outputs": [
        {
          "output_type": "execute_result",
          "data": {
            "text/plain": [
              "array([[27, 31],\n",
              "       [20, 22],\n",
              "       [30, 18],\n",
              "       [42, 42]])"
            ]
          },
          "metadata": {},
          "execution_count": 155
        }
      ]
    },
    {
      "cell_type": "code",
      "source": [
        "np.hstack((y1,y2))"
      ],
      "metadata": {
        "colab": {
          "base_uri": "https://localhost:8080/"
        },
        "id": "ucsQhSKe2yQo",
        "outputId": "0b6548d8-e813-4b02-82f4-6dbc5bec7751"
      },
      "execution_count": 156,
      "outputs": [
        {
          "output_type": "execute_result",
          "data": {
            "text/plain": [
              "array([[27, 31, 30, 18],\n",
              "       [20, 22, 42, 42]])"
            ]
          },
          "metadata": {},
          "execution_count": 156
        }
      ]
    }
  ]
}