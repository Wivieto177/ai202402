{
  "cells": [
    {
      "cell_type": "markdown",
      "metadata": {
        "id": "view-in-github",
        "colab_type": "text"
      },
      "source": [
        "<a href=\"https://colab.research.google.com/github/Wivieto177/ai202402/blob/main/Practica_de_ia_Jueves_23_10_2024.ipynb\" target=\"_parent\"><img src=\"https://colab.research.google.com/assets/colab-badge.svg\" alt=\"Open In Colab\"/></a>"
      ]
    },
    {
      "cell_type": "code",
      "execution_count": null,
      "metadata": {
        "colab": {
          "base_uri": "https://localhost:8080/"
        },
        "id": "oMw1ljx-r0n7",
        "outputId": "3442fe49-bb01-446f-f48b-485d08dd558b"
      },
      "outputs": [
        {
          "name": "stdout",
          "output_type": "stream",
          "text": [
            "3.10.12 (main, Sep 11 2024, 15:47:36) [GCC 11.4.0]\n"
          ]
        }
      ],
      "source": [
        "import sys\n",
        "print(sys.version)\n"
      ]
    },
    {
      "cell_type": "code",
      "execution_count": null,
      "metadata": {
        "colab": {
          "base_uri": "https://localhost:8080/"
        },
        "id": "onUnUcLXscnw",
        "outputId": "9d2b01dc-d9e4-4fd9-edcf-93c494757205"
      },
      "outputs": [
        {
          "name": "stdout",
          "output_type": "stream",
          "text": [
            "5\n",
            "Mi nombres es Willian\n",
            "10\n",
            "0\n",
            "10\n",
            "1.0\n",
            "25\n",
            "0\n",
            "3125\n",
            "10\n",
            "5.0\n",
            "1.0\n",
            "1.0\n",
            "<class 'float'>\n"
          ]
        }
      ],
      "source": [
        "numero=5\n",
        "tmp1=\"Willian\"\n",
        "print(numero)\n",
        "print(f\"Mi nombres es {tmp1}\")\n",
        "print(numero+5)\n",
        "print(numero-5)\n",
        "print(numero+5)\n",
        "print(numero/5)\n",
        "print(numero*5)\n",
        "print(numero%5)\n",
        "print(numero**5)\n",
        "numero *=2\n",
        "print(numero)\n",
        "numero /=2\n",
        "print(numero)\n",
        "numero %=2\n",
        "print(numero)\n",
        "numero **=2\n",
        "print(numero)\n",
        "print(type(numero))\n"
      ]
    },
    {
      "cell_type": "code",
      "execution_count": null,
      "metadata": {
        "colab": {
          "base_uri": "https://localhost:8080/"
        },
        "id": "iDj2aNR2vl8H",
        "outputId": "f9b61482-7cf9-4b3c-c99a-24cf335515fe"
      },
      "outputs": [
        {
          "name": "stdout",
          "output_type": "stream",
          "text": [
            "<class 'bool'>\n",
            "False\n",
            "True\n",
            "False\n",
            "True\n"
          ]
        }
      ],
      "source": [
        "t=True\n",
        "f=False\n",
        "print(type(t))\n",
        "print(t and f)\n",
        "print(t or f)\n",
        "print(not t)\n",
        "print(t!=f)"
      ]
    },
    {
      "cell_type": "code",
      "execution_count": null,
      "metadata": {
        "colab": {
          "base_uri": "https://localhost:8080/"
        },
        "id": "P3fsHPHlwfpD",
        "outputId": "8587455b-ed07-49e0-d647-c16a554d8a89"
      },
      "outputs": [
        {
          "output_type": "stream",
          "name": "stdout",
          "text": [
            "helloworld\n",
            "Hello\n",
            "HELLO\n",
            "willian\n"
          ]
        }
      ],
      "source": [
        "aux1='hello'\n",
        "aux2='world'\n",
        "print(aux1+aux2)\n",
        "print(aux1.capitalize())\n",
        "print(aux1.upper())\n",
        "aux3='Willian'\n",
        "print(aux3.lower())\n"
      ]
    },
    {
      "cell_type": "code",
      "source": [
        "#tipos de contenedores\n",
        "aux2=list()\n",
        "aux2.append(1)\n",
        "aux2.append(\"willian\")\n",
        "aux2.append(True)\n",
        "aux2.append(4)\n",
        "print(aux2)\n",
        "print(aux2[0])\n",
        "print(aux2[1])\n",
        "print(aux2[2])\n",
        "print(aux2[3])\n",
        "print(\"**********\")\n",
        "aux3 = list (range(100))\n",
        "for i in aux3:\n",
        "  print(f\"El valor es {i}\")\n",
        "\n"
      ],
      "metadata": {
        "colab": {
          "base_uri": "https://localhost:8080/"
        },
        "id": "0BkIlj7oxx_q",
        "outputId": "aca5ecc9-c8af-4f8b-c8f4-6588736fa9cc"
      },
      "execution_count": null,
      "outputs": [
        {
          "output_type": "stream",
          "name": "stdout",
          "text": [
            "[1, 'willian', True, 4]\n",
            "1\n",
            "willian\n",
            "True\n",
            "4\n",
            "**********\n",
            "El valor es 0\n",
            "El valor es 1\n",
            "El valor es 2\n",
            "El valor es 3\n",
            "El valor es 4\n",
            "El valor es 5\n",
            "El valor es 6\n",
            "El valor es 7\n",
            "El valor es 8\n",
            "El valor es 9\n",
            "El valor es 10\n",
            "El valor es 11\n",
            "El valor es 12\n",
            "El valor es 13\n",
            "El valor es 14\n",
            "El valor es 15\n",
            "El valor es 16\n",
            "El valor es 17\n",
            "El valor es 18\n",
            "El valor es 19\n",
            "El valor es 20\n",
            "El valor es 21\n",
            "El valor es 22\n",
            "El valor es 23\n",
            "El valor es 24\n",
            "El valor es 25\n",
            "El valor es 26\n",
            "El valor es 27\n",
            "El valor es 28\n",
            "El valor es 29\n",
            "El valor es 30\n",
            "El valor es 31\n",
            "El valor es 32\n",
            "El valor es 33\n",
            "El valor es 34\n",
            "El valor es 35\n",
            "El valor es 36\n",
            "El valor es 37\n",
            "El valor es 38\n",
            "El valor es 39\n",
            "El valor es 40\n",
            "El valor es 41\n",
            "El valor es 42\n",
            "El valor es 43\n",
            "El valor es 44\n",
            "El valor es 45\n",
            "El valor es 46\n",
            "El valor es 47\n",
            "El valor es 48\n",
            "El valor es 49\n",
            "El valor es 50\n",
            "El valor es 51\n",
            "El valor es 52\n",
            "El valor es 53\n",
            "El valor es 54\n",
            "El valor es 55\n",
            "El valor es 56\n",
            "El valor es 57\n",
            "El valor es 58\n",
            "El valor es 59\n",
            "El valor es 60\n",
            "El valor es 61\n",
            "El valor es 62\n",
            "El valor es 63\n",
            "El valor es 64\n",
            "El valor es 65\n",
            "El valor es 66\n",
            "El valor es 67\n",
            "El valor es 68\n",
            "El valor es 69\n",
            "El valor es 70\n",
            "El valor es 71\n",
            "El valor es 72\n",
            "El valor es 73\n",
            "El valor es 74\n",
            "El valor es 75\n",
            "El valor es 76\n",
            "El valor es 77\n",
            "El valor es 78\n",
            "El valor es 79\n",
            "El valor es 80\n",
            "El valor es 81\n",
            "El valor es 82\n",
            "El valor es 83\n",
            "El valor es 84\n",
            "El valor es 85\n",
            "El valor es 86\n",
            "El valor es 87\n",
            "El valor es 88\n",
            "El valor es 89\n",
            "El valor es 90\n",
            "El valor es 91\n",
            "El valor es 92\n",
            "El valor es 93\n",
            "El valor es 94\n",
            "El valor es 95\n",
            "El valor es 96\n",
            "El valor es 97\n",
            "El valor es 98\n",
            "El valor es 99\n"
          ]
        }
      ]
    },
    {
      "cell_type": "code",
      "source": [
        "#Lista  de animales\n",
        "listaAnimales=list()\n",
        "listaAnimales.append('Monkey')\n",
        "listaAnimales.append('Donkey')\n",
        "listaAnimales.append('Mouse')\n",
        "listaAnimales.append('Cat')\n",
        "listaAnimales.append('Dog')\n",
        "print(listaAnimales)\n",
        "tmp1=listaAnimales[:3]\n",
        "print(\"Animales %s\" %(tmp1))\n",
        "tmp2=listaAnimales[2:]\n",
        "print(\"Animales %s\" %(tmp2))\n",
        "tmp3=listaAnimales[2:4]\n",
        "print(\"Animales %s\" %(tmp3))\n",
        "listaAnimales[2:4]=[2,5]\n",
        "print(listaAnimales)"
      ],
      "metadata": {
        "colab": {
          "base_uri": "https://localhost:8080/"
        },
        "id": "ySmx8Qt-vQvj",
        "outputId": "f1c5cc86-23e8-46cf-9a83-5d9d96a5d2f8"
      },
      "execution_count": 13,
      "outputs": [
        {
          "output_type": "stream",
          "name": "stdout",
          "text": [
            "['Monkey', 'Donkey', 'Mouse', 'Cat', 'Dog']\n",
            "Animales ['Monkey', 'Donkey', 'Mouse']\n",
            "Animales ['Mouse', 'Cat', 'Dog']\n",
            "Animales ['Mouse', 'Cat']\n",
            "['Monkey', 'Donkey', 2, 5, 'Dog']\n"
          ]
        }
      ]
    },
    {
      "cell_type": "code",
      "source": [
        "#elementos\n",
        "for numero,animal in enumerate(listaAnimales):\n",
        "  print(\"%d: %s\" %(numero+1,animal))"
      ],
      "metadata": {
        "colab": {
          "base_uri": "https://localhost:8080/"
        },
        "id": "1n_uKFW-zuLg",
        "outputId": "04127ee8-120c-4aa9-e440-daf75a6b05cb"
      },
      "execution_count": 16,
      "outputs": [
        {
          "output_type": "stream",
          "name": "stdout",
          "text": [
            "1: Monkey\n",
            "2: Donkey\n",
            "3: 2\n",
            "4: 5\n",
            "5: Dog\n"
          ]
        }
      ]
    },
    {
      "cell_type": "code",
      "source": [
        "listaNum=list(range(50))\n",
        "print(listaNum)\n",
        "cuadrados=[]\n",
        "for x in listaNum:\n",
        "  cuadrados.append(x**2)\n",
        "print(cuadrados)"
      ],
      "metadata": {
        "colab": {
          "base_uri": "https://localhost:8080/"
        },
        "id": "XNvpCAK4034r",
        "outputId": "4aed96ae-3624-4e9b-e5c4-c269b4fe35bf"
      },
      "execution_count": 29,
      "outputs": [
        {
          "output_type": "stream",
          "name": "stdout",
          "text": [
            "[0, 1, 2, 3, 4, 5, 6, 7, 8, 9, 10, 11, 12, 13, 14, 15, 16, 17, 18, 19, 20, 21, 22, 23, 24, 25, 26, 27, 28, 29, 30, 31, 32, 33, 34, 35, 36, 37, 38, 39, 40, 41, 42, 43, 44, 45, 46, 47, 48, 49]\n",
            "[0, 1, 4, 9, 16, 25, 36, 49, 64, 81, 100, 121, 144, 169, 196, 225, 256, 289, 324, 361, 400, 441, 484, 529, 576, 625, 676, 729, 784, 841, 900, 961, 1024, 1089, 1156, 1225, 1296, 1369, 1444, 1521, 1600, 1681, 1764, 1849, 1936, 2025, 2116, 2209, 2304, 2401]\n"
          ]
        }
      ]
    },
    {
      "cell_type": "code",
      "source": [
        "listaCuadrados=[x**2 for x in listaNum]\n",
        "print(listaCuadrados)"
      ],
      "metadata": {
        "colab": {
          "base_uri": "https://localhost:8080/"
        },
        "id": "qnoD0voc175x",
        "outputId": "81258c0a-d101-4e94-a320-352463ab5790"
      },
      "execution_count": 30,
      "outputs": [
        {
          "output_type": "stream",
          "name": "stdout",
          "text": [
            "[0, 1, 4, 9, 16, 25, 36, 49, 64, 81, 100, 121, 144, 169, 196, 225, 256, 289, 324, 361, 400, 441, 484, 529, 576, 625, 676, 729, 784, 841, 900, 961, 1024, 1089, 1156, 1225, 1296, 1369, 1444, 1521, 1600, 1681, 1764, 1849, 1936, 2025, 2116, 2209, 2304, 2401]\n"
          ]
        }
      ]
    },
    {
      "cell_type": "code",
      "source": [
        "numeroImpar=[x for x in listaNum if x%2==1]\n",
        "print(numeroImpar)\n",
        "numeroPares=[x for x in listaNum if x%2==0]\n",
        "print(numeroPares)"
      ],
      "metadata": {
        "colab": {
          "base_uri": "https://localhost:8080/"
        },
        "id": "AoqhCutp2UlQ",
        "outputId": "f9d12571-8dee-4d92-9bfd-d1b6b72b0a6c"
      },
      "execution_count": 36,
      "outputs": [
        {
          "output_type": "stream",
          "name": "stdout",
          "text": [
            "[1, 3, 5, 7, 9, 11, 13, 15, 17, 19, 21, 23, 25, 27, 29, 31, 33, 35, 37, 39, 41, 43, 45, 47, 49]\n",
            "[0, 2, 4, 6, 8, 10, 12, 14, 16, 18, 20, 22, 24, 26, 28, 30, 32, 34, 36, 38, 40, 42, 44, 46, 48]\n"
          ]
        }
      ]
    },
    {
      "cell_type": "code",
      "source": [
        "#diccionarios\n",
        "myDictionary={'dog':'cute'}\n",
        "print(myDictionary)\n"
      ],
      "metadata": {
        "colab": {
          "base_uri": "https://localhost:8080/"
        },
        "id": "gMjmRWjP3kAW",
        "outputId": "d77134b0-090b-496b-dac5-1767985e67f6"
      },
      "execution_count": 38,
      "outputs": [
        {
          "output_type": "stream",
          "name": "stdout",
          "text": [
            "{'dog': 'cute'}\n"
          ]
        }
      ]
    },
    {
      "cell_type": "code",
      "source": [
        "for animal in myDictionary:\n",
        "  print(myDictionary[animal])"
      ],
      "metadata": {
        "colab": {
          "base_uri": "https://localhost:8080/"
        },
        "id": "XKf_5OKg4Ruv",
        "outputId": "efd6a742-9d1c-4639-d56b-a0f4bc8163dc"
      },
      "execution_count": 41,
      "outputs": [
        {
          "output_type": "stream",
          "name": "stdout",
          "text": [
            "cute\n"
          ]
        }
      ]
    },
    {
      "cell_type": "code",
      "source": [
        "dictiCuadrado={x:x**2 for x in listaNum}\n",
        "print(dictiCuadrado)"
      ],
      "metadata": {
        "colab": {
          "base_uri": "https://localhost:8080/"
        },
        "id": "wDPYu2cj4mVR",
        "outputId": "c601cd9f-906a-4b2b-9d94-d32158a86dbe"
      },
      "execution_count": 52,
      "outputs": [
        {
          "output_type": "stream",
          "name": "stdout",
          "text": [
            "{0: 0, 1: 1, 2: 4, 3: 9, 4: 16, 5: 25, 6: 36, 7: 49, 8: 64, 9: 81, 10: 100, 11: 121, 12: 144, 13: 169, 14: 196, 15: 225, 16: 256, 17: 289, 18: 324, 19: 361, 20: 400, 21: 441, 22: 484, 23: 529, 24: 576, 25: 625, 26: 676, 27: 729, 28: 784, 29: 841, 30: 900, 31: 961, 32: 1024, 33: 1089, 34: 1156, 35: 1225, 36: 1296, 37: 1369, 38: 1444, 39: 1521, 40: 1600, 41: 1681, 42: 1764, 43: 1849, 44: 1936, 45: 2025, 46: 2116, 47: 2209, 48: 2304, 49: 2401}\n"
          ]
        }
      ]
    },
    {
      "cell_type": "code",
      "source": [
        "#set\n",
        "setElementos={'a','b','c'}\n",
        "print(setElementos)"
      ],
      "metadata": {
        "colab": {
          "base_uri": "https://localhost:8080/"
        },
        "id": "_xVxJnIG6XEh",
        "outputId": "6453a347-b50a-4f4e-d4e4-531caa2a546b"
      },
      "execution_count": 54,
      "outputs": [
        {
          "output_type": "stream",
          "name": "stdout",
          "text": [
            "{'a', 'b', 'c'}\n"
          ]
        }
      ]
    },
    {
      "cell_type": "code",
      "source": [
        "print('a' in setElementos)\n",
        "print('f' in setElementos)\n",
        "setElementos.add('d')\n",
        "print(setElementos)\n",
        "setElementos.add('bear')\n",
        "print(setElementos)\n",
        "setElementos.remove('d')\n",
        "print(setElementos)\n",
        "print(len(setElementos))"
      ],
      "metadata": {
        "colab": {
          "base_uri": "https://localhost:8080/"
        },
        "id": "aVOqc_dH60Nu",
        "outputId": "42188796-9b5b-4e17-a426-8ee5c575dcc2"
      },
      "execution_count": 70,
      "outputs": [
        {
          "output_type": "stream",
          "name": "stdout",
          "text": [
            "True\n",
            "False\n",
            "{'c', 'b', 'a', 'd'}\n",
            "{'c', 'b', 'a', 'bear', 'd'}\n",
            "{'c', 'b', 'a', 'bear'}\n",
            "4\n"
          ]
        }
      ]
    },
    {
      "cell_type": "markdown",
      "source": [
        "FUNCIONES\n"
      ],
      "metadata": {
        "id": "ZRfysbPR8qrX"
      }
    },
    {
      "cell_type": "code",
      "source": [
        "def suma(a,b):\n",
        "  return a+b\n",
        "tmp1=3\n",
        "tmp2=5\n",
        "print('la suma de los 2 valores es igual a: ', suma(tmp1,tmp2))"
      ],
      "metadata": {
        "colab": {
          "base_uri": "https://localhost:8080/"
        },
        "id": "IXYyROr38t3O",
        "outputId": "20ee55e7-eea3-4724-b9ea-058628b9d3a1"
      },
      "execution_count": 76,
      "outputs": [
        {
          "output_type": "stream",
          "name": "stdout",
          "text": [
            "la suma de los 2 valores es igual a:  8\n"
          ]
        }
      ]
    },
    {
      "cell_type": "code",
      "source": [
        "\n",
        "def signo(numero):\n",
        "  if numero > 0:\n",
        "    return \"Positivo\"\n",
        "  elif numero < 0:\n",
        "    return \"Negativo\"\n",
        "  else:\n",
        "    return \"Cero\"\n",
        "print(signo(5))\n",
        "print(signo(-5))\n",
        "print(signo(0))\n",
        "aux='willian'\n",
        "print(aux)\n",
        "print(aux.upper())\n",
        "print(aux.capitalize())\n",
        "\n",
        "\n"
      ],
      "metadata": {
        "colab": {
          "base_uri": "https://localhost:8080/"
        },
        "id": "W_Pp2O999Puw",
        "outputId": "ea626e35-201b-4c4a-e0b8-51452abd714d"
      },
      "execution_count": 85,
      "outputs": [
        {
          "output_type": "stream",
          "name": "stdout",
          "text": [
            "Positivo\n",
            "Negativo\n",
            "Cero\n",
            "willian\n",
            "WILLIAN\n",
            "Willian\n"
          ]
        }
      ]
    },
    {
      "cell_type": "code",
      "source": [
        "listNumeross=[-1,0,1,9,-10]\n",
        "\n",
        "def evaluacionSigno(tmp):\n",
        "  if tmp>0:\n",
        "    return 'Positivo'\n",
        "  elif tmp<0:\n",
        "    return 'Negativo'\n",
        "  else:\n",
        "    return 'Cero'\n",
        "for x in listNumeross:\n",
        "  print(evaluacionSigno(x))"
      ],
      "metadata": {
        "colab": {
          "base_uri": "https://localhost:8080/"
        },
        "id": "jGG37iJ8_IrH",
        "outputId": "99122c8b-50cf-42b6-81a8-df1a95d388a4"
      },
      "execution_count": 89,
      "outputs": [
        {
          "output_type": "stream",
          "name": "stdout",
          "text": [
            "Negativo\n",
            "Cero\n",
            "Positivo\n",
            "Positivo\n",
            "Negativo\n"
          ]
        }
      ]
    },
    {
      "cell_type": "code",
      "source": [
        "#Clases\n",
        "class saludo(object):\n",
        "  #constructor\n",
        "  def __init__(self, name):\n",
        "    self.name=name\n",
        "    #print('Se ejecuta automaticamente')\n",
        "\n",
        "  def mensaje(self):\n",
        "    print('hola ',self.name)\n",
        "\n",
        "name1=saludo('Willian')\n",
        "print(name1.name)\n",
        "name1.mensaje()"
      ],
      "metadata": {
        "colab": {
          "base_uri": "https://localhost:8080/"
        },
        "id": "GOqq8RS2_sLZ",
        "outputId": "163bc1dc-225d-4e09-c15a-eb56cb77da4b"
      },
      "execution_count": 102,
      "outputs": [
        {
          "output_type": "stream",
          "name": "stdout",
          "text": [
            "Willian\n",
            "hola  Willian\n"
          ]
        }
      ]
    },
    {
      "cell_type": "code",
      "source": [
        "#calculadora con las funciones basica\n",
        "class numero(object):\n",
        "  def __init__(self,numero1,numero2):\n",
        "    self.numero1=numero1\n",
        "    self.numero2=numero2\n",
        "  def suma(self):\n",
        "    return self.numero1+self.numero2\n",
        "  def resta(self):\n",
        "    return self.numero1-self.numero2\n",
        "  def multiplicacion(self):\n",
        "    return self.numero1*self.numero2\n",
        "  def division(self):\n",
        "    return self.numero1/self.numero2\n",
        "problema1=numero(5,5)\n",
        "print(problema1.suma())\n",
        "print(problema1.resta())\n",
        "print(problema1.multiplicacion())\n",
        "print(problema1.division())\n"
      ],
      "metadata": {
        "colab": {
          "base_uri": "https://localhost:8080/"
        },
        "id": "CQkajOk-CH3B",
        "outputId": "7c67c261-4b4b-43b6-d275-8d860e600f29"
      },
      "execution_count": 110,
      "outputs": [
        {
          "output_type": "stream",
          "name": "stdout",
          "text": [
            "10\n",
            "0\n",
            "25\n",
            "1.0\n"
          ]
        }
      ]
    },
    {
      "cell_type": "code",
      "source": [],
      "metadata": {
        "id": "ywP55pnyDr_E"
      },
      "execution_count": null,
      "outputs": []
    }
  ],
  "metadata": {
    "colab": {
      "provenance": [],
      "authorship_tag": "ABX9TyN70O0eU51gJsTJ3DDavqim",
      "include_colab_link": true
    },
    "kernelspec": {
      "display_name": "Python 3",
      "name": "python3"
    },
    "language_info": {
      "name": "python"
    }
  },
  "nbformat": 4,
  "nbformat_minor": 0
}